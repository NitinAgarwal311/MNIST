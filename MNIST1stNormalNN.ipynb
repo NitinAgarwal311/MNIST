{
 "cells": [
  {
   "cell_type": "code",
   "execution_count": 3,
   "metadata": {
    "collapsed": true
   },
   "outputs": [],
   "source": [
    "import numpy as np\n",
    "import sklearn\n",
    "import matplotlib.pyplot as plt\n",
    "import torch \n",
    "from torchvision import datasets,transforms\n",
    "import torchvision\n",
    "from torch.autograd import Variable\n",
    "import torch.nn as nn\n",
    "import torch.nn.functional as F\n",
    "import torch.optim as optim"
   ]
  },
  {
   "cell_type": "code",
   "execution_count": 2,
   "metadata": {
    "collapsed": true
   },
   "outputs": [],
   "source": [
    "trans = transforms.Compose([\n",
    "        transforms.ToTensor(),\n",
    "        transforms.Normalize((0.1307,), (0.3081,))]\n",
    "                   )\n",
    "train_loader = torch.utils.data.DataLoader(\n",
    "    datasets.MNIST('./data', train=True, \n",
    "                   download=True, \n",
    "                   transform=trans,), \n",
    "                   batch_size=100, \n",
    "                   shuffle=True, \n",
    "                   num_workers=1,\n",
    "                  \n",
    ")\n",
    "test_loader = torch.utils.data.DataLoader(\n",
    "    datasets.MNIST('./data', \n",
    "                   train=False,\n",
    "                   download=True,\n",
    "                   transform = trans,),\n",
    "                   batch_size=100,\n",
    "                   shuffle=True,\n",
    "                   num_workers=1,\n",
    ")"
   ]
  },
  {
   "cell_type": "code",
   "execution_count": 3,
   "metadata": {
    "collapsed": true
   },
   "outputs": [
    {
     "data": {
      "text/plain": [
       "[\n",
       " ( 0 , 0 ,.,.) = \n",
       "  -0.4242 -0.4242 -0.4242  ...  -0.4242 -0.4242 -0.4242\n",
       "  -0.4242 -0.4242 -0.4242  ...  -0.4242 -0.4242 -0.4242\n",
       "  -0.4242 -0.4242 -0.4242  ...  -0.4242 -0.4242 -0.4242\n",
       "            ...             ⋱             ...          \n",
       "  -0.4242 -0.4242 -0.4242  ...  -0.4242 -0.4242 -0.4242\n",
       "  -0.4242 -0.4242 -0.4242  ...  -0.4242 -0.4242 -0.4242\n",
       "  -0.4242 -0.4242 -0.4242  ...  -0.4242 -0.4242 -0.4242\n",
       "       ⋮  \n",
       " \n",
       " ( 1 , 0 ,.,.) = \n",
       "  -0.4242 -0.4242 -0.4242  ...  -0.4242 -0.4242 -0.4242\n",
       "  -0.4242 -0.4242 -0.4242  ...  -0.4242 -0.4242 -0.4242\n",
       "  -0.4242 -0.4242 -0.4242  ...  -0.4242 -0.4242 -0.4242\n",
       "            ...             ⋱             ...          \n",
       "  -0.4242 -0.4242 -0.4242  ...  -0.4242 -0.4242 -0.4242\n",
       "  -0.4242 -0.4242 -0.4242  ...  -0.4242 -0.4242 -0.4242\n",
       "  -0.4242 -0.4242 -0.4242  ...  -0.4242 -0.4242 -0.4242\n",
       "       ⋮  \n",
       " \n",
       " ( 2 , 0 ,.,.) = \n",
       "  -0.4242 -0.4242 -0.4242  ...  -0.4242 -0.4242 -0.4242\n",
       "  -0.4242 -0.4242 -0.4242  ...  -0.4242 -0.4242 -0.4242\n",
       "  -0.4242 -0.4242 -0.4242  ...  -0.4242 -0.4242 -0.4242\n",
       "            ...             ⋱             ...          \n",
       "  -0.4242 -0.4242 -0.4242  ...  -0.4242 -0.4242 -0.4242\n",
       "  -0.4242 -0.4242 -0.4242  ...  -0.4242 -0.4242 -0.4242\n",
       "  -0.4242 -0.4242 -0.4242  ...  -0.4242 -0.4242 -0.4242\n",
       " ...     \n",
       "       ⋮  \n",
       " \n",
       " (97 , 0 ,.,.) = \n",
       "  -0.4242 -0.4242 -0.4242  ...  -0.4242 -0.4242 -0.4242\n",
       "  -0.4242 -0.4242 -0.4242  ...  -0.4242 -0.4242 -0.4242\n",
       "  -0.4242 -0.4242 -0.4242  ...  -0.4242 -0.4242 -0.4242\n",
       "            ...             ⋱             ...          \n",
       "  -0.4242 -0.4242 -0.4242  ...  -0.4242 -0.4242 -0.4242\n",
       "  -0.4242 -0.4242 -0.4242  ...  -0.4242 -0.4242 -0.4242\n",
       "  -0.4242 -0.4242 -0.4242  ...  -0.4242 -0.4242 -0.4242\n",
       "       ⋮  \n",
       " \n",
       " (98 , 0 ,.,.) = \n",
       "  -0.4242 -0.4242 -0.4242  ...  -0.4242 -0.4242 -0.4242\n",
       "  -0.4242 -0.4242 -0.4242  ...  -0.4242 -0.4242 -0.4242\n",
       "  -0.4242 -0.4242 -0.4242  ...  -0.4242 -0.4242 -0.4242\n",
       "            ...             ⋱             ...          \n",
       "  -0.4242 -0.4242 -0.4242  ...  -0.4242 -0.4242 -0.4242\n",
       "  -0.4242 -0.4242 -0.4242  ...  -0.4242 -0.4242 -0.4242\n",
       "  -0.4242 -0.4242 -0.4242  ...  -0.4242 -0.4242 -0.4242\n",
       "       ⋮  \n",
       " \n",
       " (99 , 0 ,.,.) = \n",
       "  -0.4242 -0.4242 -0.4242  ...  -0.4242 -0.4242 -0.4242\n",
       "  -0.4242 -0.4242 -0.4242  ...  -0.4242 -0.4242 -0.4242\n",
       "  -0.4242 -0.4242 -0.4242  ...  -0.4242 -0.4242 -0.4242\n",
       "            ...             ⋱             ...          \n",
       "  -0.4242 -0.4242 -0.4242  ...  -0.4242 -0.4242 -0.4242\n",
       "  -0.4242 -0.4242 -0.4242  ...  -0.4242 -0.4242 -0.4242\n",
       "  -0.4242 -0.4242 -0.4242  ...  -0.4242 -0.4242 -0.4242\n",
       " [torch.FloatTensor of size 100x1x28x28], \n",
       "  8\n",
       "  4\n",
       "  9\n",
       "  9\n",
       "  0\n",
       "  7\n",
       "  3\n",
       "  5\n",
       "  7\n",
       "  0\n",
       "  1\n",
       "  5\n",
       "  0\n",
       "  3\n",
       "  9\n",
       "  2\n",
       "  5\n",
       "  6\n",
       "  7\n",
       "  4\n",
       "  2\n",
       "  9\n",
       "  3\n",
       "  2\n",
       "  5\n",
       "  1\n",
       "  1\n",
       "  2\n",
       "  0\n",
       "  3\n",
       "  7\n",
       "  6\n",
       "  2\n",
       "  0\n",
       "  3\n",
       "  3\n",
       "  0\n",
       "  2\n",
       "  1\n",
       "  7\n",
       "  5\n",
       "  4\n",
       "  7\n",
       "  1\n",
       "  5\n",
       "  7\n",
       "  8\n",
       "  3\n",
       "  7\n",
       "  5\n",
       "  5\n",
       "  1\n",
       "  4\n",
       "  2\n",
       "  1\n",
       "  9\n",
       "  3\n",
       "  6\n",
       "  0\n",
       "  3\n",
       "  3\n",
       "  7\n",
       "  7\n",
       "  5\n",
       "  1\n",
       "  4\n",
       "  1\n",
       "  1\n",
       "  6\n",
       "  2\n",
       "  5\n",
       "  8\n",
       "  3\n",
       "  7\n",
       "  0\n",
       "  5\n",
       "  4\n",
       "  3\n",
       "  9\n",
       "  7\n",
       "  9\n",
       "  7\n",
       "  2\n",
       "  6\n",
       "  5\n",
       "  6\n",
       "  2\n",
       "  2\n",
       "  3\n",
       "  5\n",
       "  1\n",
       "  7\n",
       "  0\n",
       "  8\n",
       "  1\n",
       "  9\n",
       "  1\n",
       "  7\n",
       "  0\n",
       "  5\n",
       " [torch.LongTensor of size 100]]"
      ]
     },
     "execution_count": 3,
     "metadata": {},
     "output_type": "execute_result"
    }
   ],
   "source": [
    "iter(train_loader).next()"
   ]
  },
  {
   "cell_type": "code",
   "execution_count": 4,
   "metadata": {
    "collapsed": true
   },
   "outputs": [
    {
     "name": "stdout",
     "output_type": "stream",
     "text": [
      "torch.Size([100, 1, 28, 28])\n"
     ]
    },
    {
     "data": {
      "image/png": "[encoded data removed]",
      "text/plain": [
       "<matplotlib.figure.Figure at 0x7f1def1874a8>"
      ]
     },
     "metadata": {},
     "output_type": "display_data"
    },
    {
     "name": "stdout",
     "output_type": "stream",
     "text": [
      "[ 8 ,   5 ,   6 ,   6 ,   7 ,   2 ,   0 ,   8 ,   2 ,   0 ]\n"
     ]
    }
   ],
   "source": [
    "classes = (0, 1, 2, 3, 4, 5, 6, 7, 8, 9)\n",
    "def imshow(img):\n",
    "#     if use_gpu: img=img.cpu()\n",
    "    img = img/2 + 0.5 # unnormalize\n",
    "    npimg = img.numpy()\n",
    "#     Permute the axes \n",
    "    plt.imshow(np.transpose(npimg, (1, 2, 0)))\n",
    "    plt.show()\n",
    "# trainloader, classes = get_data()\n",
    "dataiter = iter(train_loader)\n",
    "images, labels = dataiter.next()\n",
    "print(images.size())\n",
    "images, labels = images[0:10], labels[0:10]\n",
    "\n",
    "imshow(torchvision.utils.make_grid(images, nrow=5))\n",
    "print(\" \".join(\"%3s\" % list(labels)))#classes[labels[j]] for j in range(len(labels))))"
   ]
  },
  {
   "cell_type": "code",
   "execution_count": 5,
   "metadata": {
    "collapsed": true
   },
   "outputs": [],
   "source": [
    "class Net(nn.Module):\n",
    "    def __init__(self):\n",
    "        super(Net, self).__init__()\n",
    "        self.fc1 = nn.Linear(28*28, 256)\n",
    "        self.fc2 = nn.Linear(256, 64)\n",
    "        self.fc3 = nn.Linear(64,10)\n",
    "\n",
    "    def forward(self, x):\n",
    "        x = F.relu(self.fc1(x))\n",
    "        x = F.relu(self.fc2(x))\n",
    "        x = self.fc3(x)\n",
    "        return F.log_softmax(x, dim=1)\n",
    "        #return x\n",
    "    \n",
    "    \n",
    "   \n"
   ]
  },
  {
   "cell_type": "code",
   "execution_count": 6,
   "metadata": {
    "collapsed": true
   },
   "outputs": [
    {
     "name": "stdout",
     "output_type": "stream",
     "text": [
      "Net(\n",
      "  (fc1): Linear(in_features=784, out_features=256, bias=True)\n",
      "  (fc2): Linear(in_features=256, out_features=64, bias=True)\n",
      "  (fc3): Linear(in_features=64, out_features=10, bias=True)\n",
      ")\n"
     ]
    }
   ],
   "source": [
    "model = Net()\n",
    "print(model)"
   ]
  },
  {
   "cell_type": "code",
   "execution_count": 7,
   "metadata": {
    "collapsed": true
   },
   "outputs": [
    {
     "name": "stdout",
     "output_type": "stream",
     "text": [
      "6\n",
      "torch.Size([256, 784])\n"
     ]
    }
   ],
   "source": [
    "params = list(model.parameters())\n",
    "print(len(params))\n",
    "print(params[0].size()) "
   ]
  },
  {
   "cell_type": "code",
   "execution_count": 8,
   "metadata": {
    "collapsed": true
   },
   "outputs": [
    {
     "name": "stdout",
     "output_type": "stream",
     "text": [
      "Variable containing:\n",
      "-2.1643 -2.0439 -2.2187 -2.2223 -2.4802 -2.5107 -2.3653 -2.5184 -2.3877 -2.2326\n",
      "[torch.FloatTensor of size 1x10]\n",
      "\n"
     ]
    }
   ],
   "source": [
    "input = Variable(torch.randn(1,784),requires_grad = True)\n",
    "out = model(input)\n",
    "print(out)"
   ]
  },
  {
   "cell_type": "code",
   "execution_count": 9,
   "metadata": {
    "collapsed": true
   },
   "outputs": [],
   "source": [
    "model.zero_grad()\n",
    "out.backward(torch.randn(1, 10))"
   ]
  },
  {
   "cell_type": "code",
   "execution_count": 10,
   "metadata": {
    "collapsed": true
   },
   "outputs": [
    {
     "name": "stdout",
     "output_type": "stream",
     "text": [
      "Variable containing:\n",
      "-2.1643 -2.0439 -2.2187 -2.2223 -2.4802 -2.5107 -2.3653 -2.5184 -2.3877 -2.2326\n",
      "[torch.FloatTensor of size 1x10]\n",
      "\n",
      "Variable containing:\n",
      " 55.2077\n",
      "[torch.FloatTensor of size 1]\n",
      "\n"
     ]
    }
   ],
   "source": [
    "output = model(input)\n",
    "print(output)\n",
    "target = Variable(torch.arange(0, 10))  # a dummy target, for example\n",
    "criterion = nn.MSELoss()\n",
    "\n",
    "loss = criterion(output, target)\n",
    "print(loss)"
   ]
  },
  {
   "cell_type": "code",
   "execution_count": 11,
   "metadata": {
    "collapsed": true
   },
   "outputs": [
    {
     "name": "stdout",
     "output_type": "stream",
     "text": [
      "<MseLossBackward object at 0x7f1def1e9b00>\n",
      "<LogSoftmaxBackward object at 0x7f1de5daf8d0>\n",
      "<AddmmBackward object at 0x7f1def1e9b00>\n"
     ]
    }
   ],
   "source": [
    "print(loss.grad_fn)  # MSELoss\n",
    "print(loss.grad_fn.next_functions[0][0])  # Linear\n",
    "print(loss.grad_fn.next_functions[0][0].next_functions[0][0])  # ReLU"
   ]
  },
  {
   "cell_type": "code",
   "execution_count": 12,
   "metadata": {
    "collapsed": true
   },
   "outputs": [],
   "source": [
    "iterator = iter(train_loader)"
   ]
  },
  {
   "cell_type": "code",
   "execution_count": 13,
   "metadata": {
    "collapsed": true
   },
   "outputs": [],
   "source": [
    "data, label = iterator.next()"
   ]
  },
  {
   "cell_type": "code",
   "execution_count": 14,
   "metadata": {
    "collapsed": true
   },
   "outputs": [],
   "source": [
    "data = data.view(100,-1)"
   ]
  },
  {
   "cell_type": "code",
   "execution_count": 15,
   "metadata": {
    "collapsed": true
   },
   "outputs": [
    {
     "name": "stdout",
     "output_type": "stream",
     "text": [
      "Variable containing:\n",
      "-2.3258 -2.0061 -2.2335  ...  -2.5799 -2.2567 -2.1853\n",
      "-2.3818 -2.0216 -2.1463  ...  -2.3809 -2.2904 -2.2171\n",
      "-2.2332 -2.0129 -2.1679  ...  -2.5411 -2.3588 -2.2955\n",
      "          ...             ⋱             ...          \n",
      "-2.3776 -2.0416 -2.2241  ...  -2.5861 -2.2415 -2.1848\n",
      "-2.3335 -2.1082 -2.1790  ...  -2.5604 -2.2617 -2.1984\n",
      "-2.3612 -2.1233 -2.1739  ...  -2.5059 -2.2984 -2.2662\n",
      "[torch.FloatTensor of size 100x10]\n",
      "\n"
     ]
    }
   ],
   "source": [
    "output = model(Variable(data))\n",
    "print(output)"
   ]
  },
  {
   "cell_type": "code",
   "execution_count": 16,
   "metadata": {
    "collapsed": true
   },
   "outputs": [],
   "source": [
    "model.zero_grad()\n",
    "loss.backward()"
   ]
  },
  {
   "cell_type": "code",
   "execution_count": 17,
   "metadata": {
    "collapsed": true
   },
   "outputs": [],
   "source": [
    "learning_rate = 0.01\n",
    "for f in model.parameters():\n",
    "    f.data.sub_(f.grad.data * learning_rate)"
   ]
  },
  {
   "cell_type": "code",
   "execution_count": 18,
   "metadata": {
    "collapsed": true
   },
   "outputs": [],
   "source": [
    "import torch.optim as optim\n",
    "\n",
    "optimizer = optim.SGD(model.parameters(), lr=0.001, momentum=0.9)"
   ]
  },
  {
   "cell_type": "code",
   "execution_count": 19,
   "metadata": {
    "collapsed": true
   },
   "outputs": [],
   "source": [
    "batch_size = 100\n",
    "num_epochs = 10\n",
    "for s in range(num_epochs):\n",
    "    for i, data in enumerate(train_loader, 0):\n",
    "        # get the inputs\n",
    "        inputs, labels = data\n",
    "\n",
    "        # wrap them in Variable\n",
    "        inputs, labels = Variable(inputs), Variable(labels)\n",
    "    \n",
    "\n",
    "        # zero the parameter gradients\n",
    "        model.zero_grad()\n",
    "    \n",
    "        optimizer.zero_grad()\n",
    "\n",
    "        # forward + backward + optimize\n",
    "        inputs = inputs.view(100,-1)\n",
    "        outputs = model(inputs)\n",
    "    \n",
    "        target = Variable(torch.zeros(100, 10))  # a dummy target, for example\n",
    "    \n",
    "        for k in range(100):\n",
    "            m = int(labels[k])\n",
    "            target[k,m] = 1\n",
    "        loss = criterion(outputs,target)\n",
    "        loss.backward()\n",
    "        optimizer.step()"
   ]
  },
  {
   "cell_type": "code",
   "execution_count": 20,
   "metadata": {
    "collapsed": true
   },
   "outputs": [],
   "source": [
    "dataiter2 = iter(test_loader)\n",
    "inputst, labelst = dataiter2.next()"
   ]
  },
  {
   "cell_type": "code",
   "execution_count": 21,
   "metadata": {
    "collapsed": true
   },
   "outputs": [
    {
     "data": {
      "image/png": "[encoded data removed]",
      "text/plain": [
       "<matplotlib.figure.Figure at 0x7f1e408ee438>"
      ]
     },
     "metadata": {},
     "output_type": "display_data"
    },
    {
     "name": "stdout",
     "output_type": "stream",
     "text": [
      "[ 1 ,   5 ,   4 ,   2 ,   3 ,   4 ,   7 ,   0 ,   4 ,   7 ]\n"
     ]
    }
   ],
   "source": [
    "classes = (0, 1, 2, 3, 4, 5, 6, 7, 8, 9)\n",
    "def imshow(img):\n",
    "#     if use_gpu: img=img.cpu()\n",
    "    img = img/2 + 0.5 # unnormalize\n",
    "    npimg = img.numpy()\n",
    "#     Permute the axes \n",
    "    plt.imshow(np.transpose(npimg, (1, 2, 0)))\n",
    "    plt.show()\n",
    "# testloader, classes = get_data()\n",
    "inputst1, labelst1 = inputst[0:10], labelst[0:10]\n",
    "imshow(torchvision.utils.make_grid(inputst1, nrow=5))\n",
    "print(\" \".join(\"%3s\" % list(labelst1)))#classes[labels[j]] for j in range(len(labels))))"
   ]
  },
  {
   "cell_type": "code",
   "execution_count": 22,
   "metadata": {
    "collapsed": true
   },
   "outputs": [],
   "source": [
    "inputst1, labelst1 = Variable(inputst1), Variable(labelst1)\n",
    "\n",
    "# zero the parameter gradients\n",
    "model.zero_grad()\n",
    "\n",
    "inputst1 = inputst1.view(10,-1)\n",
    "\n",
    "\n",
    "\n",
    "# forward + backward + optimize\n",
    "\n",
    "outputst1 = model(inputst1)"
   ]
  },
  {
   "cell_type": "code",
   "execution_count": 23,
   "metadata": {
    "collapsed": true
   },
   "outputs": [
    {
     "data": {
      "text/plain": [
       "Variable containing:\n",
       "-2.3416 -2.0678 -2.3745 -2.3215 -2.3261 -2.3362 -2.3114 -2.3230 -2.3592 -2.3005\n",
       "-2.2232 -2.3412 -2.2981 -2.2685 -2.4140 -2.2644 -2.2933 -2.2544 -2.3122 -2.3714\n",
       "-2.3815 -2.3564 -2.3886 -2.3771 -1.9921 -2.3542 -2.3056 -2.3868 -2.2630 -2.2906\n",
       "-2.3353 -2.3197 -2.1262 -2.3809 -2.2793 -2.3297 -2.2838 -2.3018 -2.3483 -2.3437\n",
       "-2.3343 -2.2994 -2.3265 -2.2734 -2.3091 -2.3099 -2.3282 -2.2197 -2.3556 -2.2765\n",
       "-2.3305 -2.3140 -2.3769 -2.2862 -2.1898 -2.3199 -2.2731 -2.3265 -2.2995 -2.3204\n",
       "-2.3533 -2.3451 -2.2945 -2.3002 -2.3318 -2.3312 -2.3196 -2.1035 -2.3581 -2.3146\n",
       "-2.1651 -2.3780 -2.3020 -2.2793 -2.2635 -2.3174 -2.2981 -2.4028 -2.2856 -2.3542\n",
       "-2.2988 -2.3272 -2.2430 -2.3998 -2.1263 -2.3337 -2.3305 -2.3530 -2.3335 -2.3059\n",
       "-2.3099 -2.3371 -2.2996 -2.3378 -2.3514 -2.3602 -2.3600 -2.0827 -2.2806 -2.3391\n",
       "[torch.FloatTensor of size 10x10]"
      ]
     },
     "execution_count": 23,
     "metadata": {},
     "output_type": "execute_result"
    }
   ],
   "source": [
    "outputst1"
   ]
  },
  {
   "cell_type": "code",
   "execution_count": 24,
   "metadata": {
    "collapsed": true
   },
   "outputs": [
    {
     "name": "stdout",
     "output_type": "stream",
     "text": [
      "Predicted:      1     0     4     2     7     4     7     0     4     7\n"
     ]
    }
   ],
   "source": [
    "_,predicted = torch.max(outputst1.data, 1)\n",
    "\n",
    "print('Predicted: ', ' '.join('%5s' % classes[predicted[j]]\n",
    "                              for j in range(10)))\n"
   ]
  },
  {
   "cell_type": "code",
   "execution_count": 25,
   "metadata": {
    "collapsed": true
   },
   "outputs": [],
   "source": [
    "correct = 0\n",
    "total = 0\n",
    "for i, data in enumerate(test_loader, 0):\n",
    "    images, labels = data\n",
    "    images = images.view(100,-1)\n",
    "    outputs = model(Variable(images))\n",
    "    _, predicted = torch.max(outputs.data, 1)\n",
    "    total += labels.size(0)\n",
    "    correct += (predicted == labels).sum()"
   ]
  },
  {
   "cell_type": "code",
   "execution_count": 26,
   "metadata": {
    "collapsed": true
   },
   "outputs": [
    {
     "name": "stdout",
     "output_type": "stream",
     "text": [
      "Accuracy of the network on the 600 test images: 89.380000 %\n"
     ]
    }
   ],
   "source": [
    "print('Accuracy of the network on the 600 test images: %f %%' % (100 * correct / total))"
   ]
  },
  {
   "cell_type": "code",
   "execution_count": 27,
   "metadata": {
    "collapsed": true
   },
   "outputs": [],
   "source": [
    "dataiter2 = iter(train_loader)\n",
    "inputst, labelst = dataiter2.next()"
   ]
  },
  {
   "cell_type": "code",
   "execution_count": 28,
   "metadata": {
    "collapsed": true
   },
   "outputs": [
    {
     "data": {
      "image/png": "[encoded data removed]",
      "text/plain": [
       "<matplotlib.figure.Figure at 0x7f2fd31cd5c0>"
      ]
     },
     "metadata": {},
     "output_type": "display_data"
    },
    {
     "name": "stdout",
     "output_type": "stream",
     "text": [
      "[ 8 ,   5 ,   6 ,   7 ,   4 ,   2 ,   4 ,   7 ,   1 ,   7 ]\n"
     ]
    }
   ],
   "source": [
    "inputst1, labelst1 = inputst[0:10], labelst[0:10]\n",
    "imshow(torchvision.utils.make_grid(inputst1, nrow=5))\n",
    "print(\" \".join(\"%3s\" % list(labelst1)))#classes[labels[j]] for j in range(len(labels))))"
   ]
  },
  {
   "cell_type": "code",
   "execution_count": 29,
   "metadata": {
    "collapsed": true
   },
   "outputs": [],
   "source": [
    "inputst1, labelst1 = Variable(inputst1), Variable(labelst1)"
   ]
  },
  {
   "cell_type": "code",
   "execution_count": 30,
   "metadata": {
    "collapsed": true
   },
   "outputs": [
    {
     "data": {
      "text/plain": [
       "Variable containing:\n",
       "-2.3442 -2.3393 -2.2531 -2.2789 -2.3329 -2.2587 -2.2822 -2.3380 -2.2901 -2.3139\n",
       "-2.3075 -2.3464 -2.3198 -2.2961 -2.2953 -2.1211 -2.3070 -2.3389 -2.3428 -2.3734\n",
       "-2.3464 -2.3165 -2.2942 -2.3589 -2.3056 -2.3157 -2.1033 -2.2933 -2.3598 -2.3593\n",
       "-2.3305 -2.3257 -2.3514 -2.3273 -2.3586 -2.3432 -2.3154 -2.0528 -2.3212 -2.3390\n",
       "-2.3494 -2.3658 -2.3321 -2.3443 -2.0797 -2.3025 -2.2970 -2.3758 -2.3133 -2.2998\n",
       "-2.3042 -2.3299 -2.1475 -2.3129 -2.2530 -2.3445 -2.3052 -2.3423 -2.3644 -2.3405\n",
       "-2.2765 -2.2599 -2.3380 -2.3860 -2.2154 -2.3397 -2.2840 -2.3227 -2.3044 -2.3096\n",
       "-2.3586 -2.3212 -2.3341 -2.3113 -2.2116 -2.3733 -2.3426 -2.1103 -2.3443 -2.3500\n",
       "-2.3318 -2.1979 -2.2477 -2.3146 -2.3186 -2.3517 -2.3467 -2.3322 -2.2731 -2.3227\n",
       "-2.3289 -2.3311 -2.3262 -2.3516 -2.3526 -2.3675 -2.3112 -1.9926 -2.3522 -2.3747\n",
       "[torch.FloatTensor of size 10x10]"
      ]
     },
     "execution_count": 30,
     "metadata": {},
     "output_type": "execute_result"
    }
   ],
   "source": [
    "model(inputst1.view(10,-1))"
   ]
  },
  {
   "cell_type": "code",
   "execution_count": 31,
   "metadata": {
    "collapsed": true
   },
   "outputs": [],
   "source": [
    "correct = 0\n",
    "total = 0\n",
    "for i, data in enumerate(train_loader, 0):\n",
    "    images, labels = data\n",
    "    images = images.view(100,-1)\n",
    "    outputs = model(Variable(images))\n",
    "    _, predicted = torch.max(outputs.data, 1)\n",
    "    total += labels.size(0)\n",
    "    correct += (predicted == labels).sum()"
   ]
  },
  {
   "cell_type": "code",
   "execution_count": 32,
   "metadata": {
    "collapsed": true
   },
   "outputs": [
    {
     "name": "stdout",
     "output_type": "stream",
     "text": [
      "Accuracy of the network on the 600 test images: 89.511667 %\n"
     ]
    }
   ],
   "source": [
    "print('Accuracy of the network on the 600 test images: %f %%' % (100 * correct / total))"
   ]
  },
  {
   "cell_type": "code",
   "execution_count": null,
   "metadata": {
    "collapsed": true
   },
   "outputs": [],
   "source": []
  }
 ],
 "metadata": {
  "kernelspec": {
   "display_name": "Python 3",
   "language": "python",
   "name": "python3"
  },
  "language_info": {
   "codemirror_mode": {
    "name": "ipython",
    "version": 3
   },
   "file_extension": ".py",
   "mimetype": "text/x-python",
   "name": "python",
   "nbconvert_exporter": "python",
   "pygments_lexer": "ipython3",
   "version": "3.6.3"
  }
 },
 "nbformat": 4,
 "nbformat_minor": 2
}
