{
 "cells": [
  {
   "cell_type": "code",
   "execution_count": 52,
   "metadata": {
    "collapsed": true
   },
   "outputs": [],
   "source": [
    "import numpy as np\n",
    "import sklearn\n",
    "import matplotlib.pyplot as plt\n",
    "import torch \n",
    "from torchvision import datasets,transforms\n",
    "import torchvision\n",
    "from torch.autograd import Variable\n",
    "import torch.nn as nn\n",
    "import torch.nn.functional as F\n",
    "import torch.optim as optim"
   ]
  },
  {
   "cell_type": "code",
   "execution_count": 53,
   "metadata": {
    "collapsed": true
   },
   "outputs": [],
   "source": [
    "trans = transforms.Compose([\n",
    "        transforms.ToTensor(),\n",
    "        transforms.Normalize((0.1307,), (0.3081,))]\n",
    "                   )\n",
    "train_loader = torch.utils.data.DataLoader(\n",
    "    datasets.MNIST('./data', train=True, \n",
    "                   download=True, \n",
    "                   transform=trans,), \n",
    "                   batch_size=100, \n",
    "                   shuffle=True, \n",
    "                   num_workers=1,\n",
    "                  \n",
    ")\n",
    "test_loader = torch.utils.data.DataLoader(\n",
    "    datasets.MNIST('./data', \n",
    "                   train=False,\n",
    "                   download=True,\n",
    "                   transform = trans,),\n",
    "                   batch_size=100,\n",
    "                   shuffle=True,\n",
    "                   num_workers=1,\n",
    ")"
   ]
  },
  {
   "cell_type": "code",
   "execution_count": 54,
   "metadata": {
    "collapsed": true
   },
   "outputs": [
    {
     "data": {
      "text/plain": [
       "[\n",
       " ( 0 , 0 ,.,.) = \n",
       "  -0.4242 -0.4242 -0.4242  ...  -0.4242 -0.4242 -0.4242\n",
       "  -0.4242 -0.4242 -0.4242  ...  -0.4242 -0.4242 -0.4242\n",
       "  -0.4242 -0.4242 -0.4242  ...  -0.4242 -0.4242 -0.4242\n",
       "            ...             ⋱             ...          \n",
       "  -0.4242 -0.4242 -0.4242  ...  -0.4242 -0.4242 -0.4242\n",
       "  -0.4242 -0.4242 -0.4242  ...  -0.4242 -0.4242 -0.4242\n",
       "  -0.4242 -0.4242 -0.4242  ...  -0.4242 -0.4242 -0.4242\n",
       "       ⋮  \n",
       " \n",
       " ( 1 , 0 ,.,.) = \n",
       "  -0.4242 -0.4242 -0.4242  ...  -0.4242 -0.4242 -0.4242\n",
       "  -0.4242 -0.4242 -0.4242  ...  -0.4242 -0.4242 -0.4242\n",
       "  -0.4242 -0.4242 -0.4242  ...  -0.4242 -0.4242 -0.4242\n",
       "            ...             ⋱             ...          \n",
       "  -0.4242 -0.4242 -0.4242  ...  -0.4242 -0.4242 -0.4242\n",
       "  -0.4242 -0.4242 -0.4242  ...  -0.4242 -0.4242 -0.4242\n",
       "  -0.4242 -0.4242 -0.4242  ...  -0.4242 -0.4242 -0.4242\n",
       "       ⋮  \n",
       " \n",
       " ( 2 , 0 ,.,.) = \n",
       "  -0.4242 -0.4242 -0.4242  ...  -0.4242 -0.4242 -0.4242\n",
       "  -0.4242 -0.4242 -0.4242  ...  -0.4242 -0.4242 -0.4242\n",
       "  -0.4242 -0.4242 -0.4242  ...  -0.4242 -0.4242 -0.4242\n",
       "            ...             ⋱             ...          \n",
       "  -0.4242 -0.4242 -0.4242  ...  -0.4242 -0.4242 -0.4242\n",
       "  -0.4242 -0.4242 -0.4242  ...  -0.4242 -0.4242 -0.4242\n",
       "  -0.4242 -0.4242 -0.4242  ...  -0.4242 -0.4242 -0.4242\n",
       " ...     \n",
       "       ⋮  \n",
       " \n",
       " (97 , 0 ,.,.) = \n",
       "  -0.4242 -0.4242 -0.4242  ...  -0.4242 -0.4242 -0.4242\n",
       "  -0.4242 -0.4242 -0.4242  ...  -0.4242 -0.4242 -0.4242\n",
       "  -0.4242 -0.4242 -0.4242  ...  -0.4242 -0.4242 -0.4242\n",
       "            ...             ⋱             ...          \n",
       "  -0.4242 -0.4242 -0.4242  ...  -0.4242 -0.4242 -0.4242\n",
       "  -0.4242 -0.4242 -0.4242  ...  -0.4242 -0.4242 -0.4242\n",
       "  -0.4242 -0.4242 -0.4242  ...  -0.4242 -0.4242 -0.4242\n",
       "       ⋮  \n",
       " \n",
       " (98 , 0 ,.,.) = \n",
       "  -0.4242 -0.4242 -0.4242  ...  -0.4242 -0.4242 -0.4242\n",
       "  -0.4242 -0.4242 -0.4242  ...  -0.4242 -0.4242 -0.4242\n",
       "  -0.4242 -0.4242 -0.4242  ...  -0.4242 -0.4242 -0.4242\n",
       "            ...             ⋱             ...          \n",
       "  -0.4242 -0.4242 -0.4242  ...  -0.4242 -0.4242 -0.4242\n",
       "  -0.4242 -0.4242 -0.4242  ...  -0.4242 -0.4242 -0.4242\n",
       "  -0.4242 -0.4242 -0.4242  ...  -0.4242 -0.4242 -0.4242\n",
       "       ⋮  \n",
       " \n",
       " (99 , 0 ,.,.) = \n",
       "  -0.4242 -0.4242 -0.4242  ...  -0.4242 -0.4242 -0.4242\n",
       "  -0.4242 -0.4242 -0.4242  ...  -0.4242 -0.4242 -0.4242\n",
       "  -0.4242 -0.4242 -0.4242  ...  -0.4242 -0.4242 -0.4242\n",
       "            ...             ⋱             ...          \n",
       "  -0.4242 -0.4242 -0.4242  ...  -0.4242 -0.4242 -0.4242\n",
       "  -0.4242 -0.4242 -0.4242  ...  -0.4242 -0.4242 -0.4242\n",
       "  -0.4242 -0.4242 -0.4242  ...  -0.4242 -0.4242 -0.4242\n",
       " [torch.FloatTensor of size 100x1x28x28], \n",
       "  8\n",
       "  6\n",
       "  9\n",
       "  0\n",
       "  7\n",
       "  1\n",
       "  9\n",
       "  0\n",
       "  5\n",
       "  9\n",
       "  5\n",
       "  2\n",
       "  7\n",
       "  5\n",
       "  5\n",
       "  4\n",
       "  3\n",
       "  6\n",
       "  6\n",
       "  8\n",
       "  1\n",
       "  5\n",
       "  4\n",
       "  5\n",
       "  3\n",
       "  3\n",
       "  8\n",
       "  1\n",
       "  9\n",
       "  9\n",
       "  6\n",
       "  0\n",
       "  8\n",
       "  5\n",
       "  7\n",
       "  9\n",
       "  5\n",
       "  9\n",
       "  2\n",
       "  7\n",
       "  5\n",
       "  7\n",
       "  9\n",
       "  5\n",
       "  8\n",
       "  1\n",
       "  2\n",
       "  2\n",
       "  1\n",
       "  4\n",
       "  3\n",
       "  0\n",
       "  1\n",
       "  8\n",
       "  1\n",
       "  2\n",
       "  3\n",
       "  3\n",
       "  1\n",
       "  9\n",
       "  2\n",
       "  5\n",
       "  7\n",
       "  8\n",
       "  4\n",
       "  6\n",
       "  5\n",
       "  5\n",
       "  1\n",
       "  9\n",
       "  9\n",
       "  2\n",
       "  9\n",
       "  1\n",
       "  6\n",
       "  6\n",
       "  3\n",
       "  5\n",
       "  1\n",
       "  8\n",
       "  4\n",
       "  3\n",
       "  2\n",
       "  5\n",
       "  8\n",
       "  5\n",
       "  3\n",
       "  9\n",
       "  3\n",
       "  8\n",
       "  6\n",
       "  1\n",
       "  0\n",
       "  2\n",
       "  4\n",
       "  0\n",
       "  8\n",
       "  8\n",
       "  4\n",
       "  5\n",
       " [torch.LongTensor of size 100]]"
      ]
     },
     "execution_count": 54,
     "metadata": {},
     "output_type": "execute_result"
    }
   ],
   "source": [
    "iter(train_loader).next()"
   ]
  },
  {
   "cell_type": "code",
   "execution_count": 55,
   "metadata": {
    "collapsed": true
   },
   "outputs": [
    {
     "name": "stdout",
     "output_type": "stream",
     "text": [
      "torch.Size([100, 1, 28, 28])\n"
     ]
    },
    {
     "data": {
      "image/png": "[encoded data removed]",
      "text/plain": [
       "<matplotlib.figure.Figure at 0x7f4a192d2fd0>"
      ]
     },
     "metadata": {},
     "output_type": "display_data"
    },
    {
     "name": "stdout",
     "output_type": "stream",
     "text": [
      "[ 4 ,   1 ,   4 ,   7 ,   8 ,   5 ,   2 ,   2 ,   0 ,   3 ]\n"
     ]
    }
   ],
   "source": [
    "classes = (0, 1, 2, 3, 4, 5, 6, 7, 8, 9)\n",
    "def imshow(img):\n",
    "#     if use_gpu: img=img.cpu()\n",
    "    img = img/2 + 0.5 # unnormalize\n",
    "    npimg = img.numpy()\n",
    "#     Permute the axes \n",
    "    plt.imshow(np.transpose(npimg, (1, 2, 0)))\n",
    "    plt.show()\n",
    "# trainloader, classes = get_data()\n",
    "dataiter = iter(train_loader)\n",
    "images, labels = dataiter.next()\n",
    "print(images.size())\n",
    "images, labels = images[0:10], labels[0:10]\n",
    "\n",
    "imshow(torchvision.utils.make_grid(images, nrow=5))\n",
    "print(\" \".join(\"%3s\" % list(labels)))#classes[labels[j]] for j in range(len(labels))))"
   ]
  },
  {
   "cell_type": "code",
   "execution_count": 56,
   "metadata": {
    "collapsed": true
   },
   "outputs": [],
   "source": [
    "import torch\n",
    "import torch.nn.functional as F\n",
    "from torch.autograd import Variable\n",
    "\n",
    "def resize2d(img, size):\n",
    "    return (F.adaptive_avg_pool2d(Variable(img,volatile=True), size)).data"
   ]
  },
  {
   "cell_type": "code",
   "execution_count": 57,
   "metadata": {
    "collapsed": true
   },
   "outputs": [],
   "source": [
    "class Net(nn.Module):\n",
    "\n",
    "    def __init__(self):\n",
    "        super(Net, self).__init__()\n",
    "        # 1 input image channel, 6 output channels, 5x5 square convolution\n",
    "        # kernel\n",
    "        self.conv1 = nn.Conv2d(1, 6, 5)\n",
    "        self.conv2 = nn.Conv2d(6, 16, 5)\n",
    "        # an affine operation: y = Wx + b\n",
    "        self.fc1 = nn.Linear(16 * 5 * 5, 120)\n",
    "        self.fc2 = nn.Linear(120, 84)\n",
    "        self.fc3 = nn.Linear(84, 10)\n",
    "\n",
    "    def forward(self, x):\n",
    "        # Max pooling over a (2, 2) window\n",
    "        x = F.max_pool2d(F.relu(self.conv1(x)), (2, 2))\n",
    "        # If the size is a square you can only specify a single number\n",
    "        x = F.max_pool2d(F.relu(self.conv2(x)), 2)\n",
    "        x = x.view(-1, self.num_flat_features(x))\n",
    "        x = F.relu(self.fc1(x))\n",
    "        x = F.relu(self.fc2(x))\n",
    "        x = self.fc3(x)\n",
    "        return x\n",
    "\n",
    "    def num_flat_features(self, x):\n",
    "        size = x.size()[1:]  # all dimensions except the batch dimension\n",
    "        num_features = 1\n",
    "        for s in size:\n",
    "            num_features *= s\n",
    "        return num_features\n"
   ]
  },
  {
   "cell_type": "code",
   "execution_count": 58,
   "metadata": {
    "collapsed": true
   },
   "outputs": [
    {
     "name": "stdout",
     "output_type": "stream",
     "text": [
      "Net(\n",
      "  (conv1): Conv2d(1, 6, kernel_size=(5, 5), stride=(1, 1))\n",
      "  (conv2): Conv2d(6, 16, kernel_size=(5, 5), stride=(1, 1))\n",
      "  (fc1): Linear(in_features=400, out_features=120, bias=True)\n",
      "  (fc2): Linear(in_features=120, out_features=84, bias=True)\n",
      "  (fc3): Linear(in_features=84, out_features=10, bias=True)\n",
      ")\n"
     ]
    }
   ],
   "source": [
    "net = Net()\n",
    "print(net)"
   ]
  },
  {
   "cell_type": "code",
   "execution_count": 59,
   "metadata": {
    "collapsed": true
   },
   "outputs": [
    {
     "name": "stdout",
     "output_type": "stream",
     "text": [
      "10\n",
      "torch.Size([6, 1, 5, 5])\n"
     ]
    }
   ],
   "source": [
    "params = list(net.parameters())\n",
    "print(len(params))\n",
    "print(params[0].size())  # conv1's .weight"
   ]
  },
  {
   "cell_type": "code",
   "execution_count": 60,
   "metadata": {
    "collapsed": true
   },
   "outputs": [
    {
     "name": "stdout",
     "output_type": "stream",
     "text": [
      "Variable containing:\n",
      " 0.1492 -0.1206 -0.0595  0.0051  0.1537  0.0095 -0.0854 -0.0774 -0.1085  0.0807\n",
      "[torch.FloatTensor of size 1x10]\n",
      "\n"
     ]
    }
   ],
   "source": [
    "input = Variable(torch.randn(1, 1, 32, 32))\n",
    "out = net(input)\n",
    "print(out)"
   ]
  },
  {
   "cell_type": "code",
   "execution_count": 61,
   "metadata": {
    "collapsed": true
   },
   "outputs": [],
   "source": [
    "net.zero_grad()\n",
    "out.backward(torch.randn(1, 10))"
   ]
  },
  {
   "cell_type": "code",
   "execution_count": 62,
   "metadata": {
    "collapsed": true
   },
   "outputs": [
    {
     "name": "stdout",
     "output_type": "stream",
     "text": [
      "Variable containing:\n",
      " 38.6718\n",
      "[torch.FloatTensor of size 1]\n",
      "\n"
     ]
    }
   ],
   "source": [
    "output = net(input)\n",
    "target = Variable(torch.arange(1, 11))  # a dummy target, for example\n",
    "criterion = nn.MSELoss()\n",
    "\n",
    "loss = criterion(output, target)\n",
    "print(loss)\n"
   ]
  },
  {
   "cell_type": "code",
   "execution_count": 63,
   "metadata": {
    "collapsed": true
   },
   "outputs": [
    {
     "name": "stdout",
     "output_type": "stream",
     "text": [
      "conv1.bias.grad before backward\n",
      "Variable containing:\n",
      " 0\n",
      " 0\n",
      " 0\n",
      " 0\n",
      " 0\n",
      " 0\n",
      "[torch.FloatTensor of size 6]\n",
      "\n",
      "conv1.bias.grad after backward\n",
      "Variable containing:\n",
      "1.00000e-02 *\n",
      " -2.8409\n",
      "  0.4533\n",
      " -3.9354\n",
      " -4.8228\n",
      "  2.5585\n",
      "  8.9464\n",
      "[torch.FloatTensor of size 6]\n",
      "\n"
     ]
    }
   ],
   "source": [
    "net.zero_grad()     # zeroes the gradient buffers of all parameters\n",
    "\n",
    "print('conv1.bias.grad before backward')\n",
    "print(net.conv1.bias.grad)\n",
    "\n",
    "loss.backward()\n",
    "\n",
    "print('conv1.bias.grad after backward')\n",
    "print(net.conv1.bias.grad)\n"
   ]
  },
  {
   "cell_type": "code",
   "execution_count": 64,
   "metadata": {
    "collapsed": true
   },
   "outputs": [],
   "source": [
    "learning_rate = 0.01\n",
    "for f in net.parameters():\n",
    "    f.data.sub_(f.grad.data * learning_rate)\n"
   ]
  },
  {
   "cell_type": "code",
   "execution_count": 65,
   "metadata": {
    "collapsed": true
   },
   "outputs": [],
   "source": [
    "import torch.optim as optim\n",
    "\n",
    "# create your optimizer\n",
    "optimizer = optim.SGD(net.parameters(), lr=0.01)\n",
    "\n",
    "# in your training loop:\n",
    "optimizer.zero_grad()   # zero the gradient buffers\n",
    "output = net(input)\n",
    "loss = criterion(output, target)\n",
    "loss.backward()\n",
    "optimizer.step()    # Does the update"
   ]
  },
  {
   "cell_type": "code",
   "execution_count": 66,
   "metadata": {
    "collapsed": true
   },
   "outputs": [],
   "source": [
    "batch_size = 100\n",
    "num_epochs = 10\n",
    "for s in range(num_epochs):\n",
    "    for i, data in enumerate(train_loader, 0):\n",
    "        # get the inputs\n",
    "        inputs, labels = data\n",
    "\n",
    "        # wrap them in Variable\n",
    "        inputs = img = resize2d(inputs, (32,32))\n",
    "        inputs, labels = Variable(inputs), Variable(labels)\n",
    "        \n",
    "\n",
    "        # zero the parameter gradients\n",
    "        net.zero_grad()\n",
    "    \n",
    "        optimizer.zero_grad()\n",
    "\n",
    "        # forward + backward + optimize\n",
    "        #print(inputs)\n",
    "        #inputs = inputs.view(100,-1)\n",
    "        outputs = net(inputs)\n",
    "    \n",
    "        target = Variable(torch.zeros(100, 10))  # a dummy target, for example\n",
    "    \n",
    "        for k in range(100):\n",
    "            m = int(labels[k])\n",
    "            target[k,m] = 1\n",
    "        loss = criterion(outputs,target)\n",
    "        loss.backward()\n",
    "        optimizer.step()"
   ]
  },
  {
   "cell_type": "code",
   "execution_count": 67,
   "metadata": {
    "collapsed": true
   },
   "outputs": [],
   "source": [
    "dataiter2 = iter(test_loader)\n",
    "inputst, labelst = dataiter2.next()"
   ]
  },
  {
   "cell_type": "code",
   "execution_count": 68,
   "metadata": {
    "collapsed": true
   },
   "outputs": [
    {
     "data": {
      "image/png": "[encoded data removed]",
      "text/plain": [
       "<matplotlib.figure.Figure at 0x7f49c7ac6780>"
      ]
     },
     "metadata": {},
     "output_type": "display_data"
    },
    {
     "name": "stdout",
     "output_type": "stream",
     "text": [
      "[ 4 ,   0 ,   4 ,   3 ,   1 ,   1 ,   4 ,   9 ,   9 ,   4 ]\n"
     ]
    }
   ],
   "source": [
    "classes = (0, 1, 2, 3, 4, 5, 6, 7, 8, 9)\n",
    "def imshow(img):\n",
    "#     if use_gpu: img=img.cpu()\n",
    "    img = img/2 + 0.5 # unnormalize\n",
    "    npimg = img.numpy()\n",
    "#     Permute the axes \n",
    "    plt.imshow(np.transpose(npimg, (1, 2, 0)))\n",
    "    plt.show()\n",
    "# testloader, classes = get_data()\n",
    "inputst1, labelst1 = inputst[0:10], labelst[0:10]\n",
    "imshow(torchvision.utils.make_grid(inputst1, nrow=5))\n",
    "print(\" \".join(\"%3s\" % list(labelst1)))#classes[labels[j]] for j in range(len(labels))))"
   ]
  },
  {
   "cell_type": "code",
   "execution_count": 69,
   "metadata": {
    "collapsed": true
   },
   "outputs": [],
   "source": [
    "inputst1 = resize2d(inputst1, (32,32))\n",
    "inputst1, labelst1 = Variable(inputst1), Variable(labelst1)\n",
    "\n",
    "# zero the parameter gradients\n",
    "net.zero_grad()\n",
    "\n",
    "#inputst1 = inputst1.view(10,-1)\n",
    "\n",
    "\n",
    "\n",
    "# forward + backward + optimize\n",
    "\n",
    "outputst1 = net(inputst1)"
   ]
  },
  {
   "cell_type": "code",
   "execution_count": 70,
   "metadata": {
    "collapsed": true
   },
   "outputs": [
    {
     "data": {
      "text/plain": [
       "Variable containing:\n",
       " 0.0274 -0.0003 -0.0185 -0.0893  0.9620  0.1043  0.0336 -0.0233 -0.0455  0.1459\n",
       " 0.7750  0.0259  0.1264 -0.2438  0.0040  0.1856  0.0972 -0.0240 -0.1634 -0.0972\n",
       "-0.0283 -0.0257 -0.1524 -0.0341  1.1073  0.0465  0.0138  0.0415  0.0077  0.2230\n",
       "-0.1138 -0.0403 -0.0662  1.0457 -0.0622  0.1450 -0.0438 -0.0471 -0.0424 -0.0044\n",
       "-0.0068  0.7128 -0.0223 -0.0970  0.0389  0.0681  0.0863 -0.0411  0.1538  0.0089\n",
       "-0.0020  0.7901 -0.0234  0.1755  0.0485 -0.0343 -0.0099  0.0292 -0.0188  0.0567\n",
       "-0.0522 -0.0346 -0.0015 -0.0069  0.5098  0.0105  0.0715  0.0749  0.2871  0.3714\n",
       "-0.0016  0.1160 -0.1058  0.0265 -0.0015  0.1225 -0.1040  0.5134  0.1638  0.3018\n",
       "-0.0422 -0.0014 -0.0632 -0.0726  0.4889  0.0275  0.0809 -0.0066  0.0480  0.6946\n",
       " 0.0213  0.1022 -0.1185 -0.0273  0.5581  0.0597  0.0592 -0.0110  0.1504  0.4042\n",
       "[torch.FloatTensor of size 10x10]"
      ]
     },
     "execution_count": 70,
     "metadata": {},
     "output_type": "execute_result"
    }
   ],
   "source": [
    "outputst1"
   ]
  },
  {
   "cell_type": "code",
   "execution_count": 71,
   "metadata": {
    "collapsed": true
   },
   "outputs": [
    {
     "name": "stdout",
     "output_type": "stream",
     "text": [
      "Predicted:      4     0     4     3     1     1     4     7     9     4\n"
     ]
    }
   ],
   "source": [
    "_,predicted = torch.max(outputst1.data, 1)\n",
    "\n",
    "print('Predicted: ', ' '.join('%5s' % classes[predicted[j]]\n",
    "                              for j in range(10)))\n"
   ]
  },
  {
   "cell_type": "code",
   "execution_count": 72,
   "metadata": {
    "collapsed": true
   },
   "outputs": [],
   "source": [
    "correct = 0\n",
    "total = 0\n",
    "for i, data in enumerate(test_loader, 0):\n",
    "    images, labels = data\n",
    "    #images = images.view(100,-1)\n",
    "    images = resize2d(images, (32,32))\n",
    "    outputs = net(Variable(images))\n",
    "    _, predicted = torch.max(outputs.data, 1)\n",
    "    total += labels.size(0)\n",
    "    correct += (predicted == labels).sum()"
   ]
  },
  {
   "cell_type": "code",
   "execution_count": 73,
   "metadata": {},
   "outputs": [
    {
     "name": "stdout",
     "output_type": "stream",
     "text": [
      "Accuracy of the network on the 600 test images: 91.700000 %\n"
     ]
    }
   ],
   "source": [
    "print('Accuracy of the network on the 600 test images: %f %%' % (100 * correct / total))"
   ]
  },
  {
   "cell_type": "code",
   "execution_count": 74,
   "metadata": {
    "collapsed": true
   },
   "outputs": [],
   "source": [
    "dataiter2 = iter(train_loader)\n",
    "inputst, labelst = dataiter2.next()"
   ]
  },
  {
   "cell_type": "code",
   "execution_count": 75,
   "metadata": {
    "collapsed": true
   },
   "outputs": [
    {
     "data": {
      "image/png": "[encoded data removed]",
      "text/plain": [
       "<matplotlib.figure.Figure at 0x7f49bc4a7ef0>"
      ]
     },
     "metadata": {},
     "output_type": "display_data"
    },
    {
     "name": "stdout",
     "output_type": "stream",
     "text": [
      "[ 7 ,   0 ,   2 ,   1 ,   3 ,   3 ,   5 ,   6 ,   1 ,   9 ]\n"
     ]
    }
   ],
   "source": [
    "inputst1, labelst1 = inputst[0:10], labelst[0:10]\n",
    "imshow(torchvision.utils.make_grid(inputst1, nrow=5))\n",
    "print(\" \".join(\"%3s\" % list(labelst1)))#classes[labels[j]] for j in range(len(labels))))"
   ]
  },
  {
   "cell_type": "code",
   "execution_count": 76,
   "metadata": {
    "collapsed": true
   },
   "outputs": [],
   "source": [
    "inputst1 = resize2d(inputst1, (32,32))\n",
    "inputst1, labelst1 = Variable(inputst1), Variable(labelst1)"
   ]
  },
  {
   "cell_type": "code",
   "execution_count": 77,
   "metadata": {
    "collapsed": true
   },
   "outputs": [
    {
     "data": {
      "text/plain": [
       "Variable containing:\n",
       "-0.0227  0.1055 -0.0124  0.0745  0.1583 -0.0094 -0.0072  0.4723 -0.0413  0.2245\n",
       " 0.6994  0.0290 -0.0437 -0.0567  0.1072  0.0791  0.0273  0.0300  0.0099  0.0868\n",
       " 0.0424  0.0962  1.0324 -0.0806  0.0073 -0.0449 -0.0908  0.0490  0.0441  0.0259\n",
       "-0.0282  1.1320 -0.1107  0.0222  0.0042 -0.0081  0.0395  0.0573 -0.0066  0.0189\n",
       "-0.0814 -0.1113  0.4484  0.2376 -0.0618  0.0543  0.3823  0.1873  0.1193  0.0580\n",
       " 0.0819 -0.0450  0.3042  0.2530 -0.1416  0.1223  0.4485  0.0453 -0.1076  0.0850\n",
       "-0.0259 -0.0656 -0.1433  0.1304  0.0579  0.6963 -0.1567  0.0977  0.0609  0.2629\n",
       "-0.1375  0.0077  0.0736 -0.0134  0.1913  0.0600  0.8906 -0.0833  0.0228 -0.2132\n",
       "-0.0051  1.0277 -0.0211 -0.0314  0.0115 -0.0488  0.0196 -0.0408  0.1157 -0.0518\n",
       " 0.0428  0.0601 -0.0309  0.2657  0.2386  0.0234 -0.0605  0.0414 -0.0476  0.2930\n",
       "[torch.FloatTensor of size 10x10]"
      ]
     },
     "execution_count": 77,
     "metadata": {},
     "output_type": "execute_result"
    }
   ],
   "source": [
    "net(inputst1)"
   ]
  },
  {
   "cell_type": "code",
   "execution_count": 82,
   "metadata": {
    "collapsed": true
   },
   "outputs": [],
   "source": [
    "correct = 0\n",
    "total = 0\n",
    "for i, data in enumerate(train_loader, 0):\n",
    "    images, labels = data\n",
    "    images = resize2d(images, (32,32))\n",
    "    outputs = net(Variable(images))\n",
    "    _, predicted = torch.max(outputs.data, 1)\n",
    "    total += labels.size(0)\n",
    "    correct += (predicted == labels).sum()"
   ]
  },
  {
   "cell_type": "code",
   "execution_count": 83,
   "metadata": {
    "collapsed": true
   },
   "outputs": [
    {
     "name": "stdout",
     "output_type": "stream",
     "text": [
      "Accuracy of the network on the 600 test images: 91.150000 %\n"
     ]
    }
   ],
   "source": [
    "print('Accuracy of the network on the 600 test images: %f %%' % (100 * correct / total))"
   ]
  },
  {
   "cell_type": "code",
   "execution_count": null,
   "metadata": {
    "collapsed": true
   },
   "outputs": [],
   "source": []
  }
 ],
 "metadata": {
  "kernelspec": {
   "display_name": "Python 3",
   "language": "python",
   "name": "python3"
  },
  "language_info": {
   "codemirror_mode": {
    "name": "ipython",
    "version": 3
   },
   "file_extension": ".py",
   "mimetype": "text/x-python",
   "name": "python",
   "nbconvert_exporter": "python",
   "pygments_lexer": "ipython3",
   "version": "3.6.3"
  }
 },
 "nbformat": 4,
 "nbformat_minor": 2
}
